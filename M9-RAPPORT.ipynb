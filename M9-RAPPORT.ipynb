{
 "cells": [
  {
   "cell_type": "markdown",
   "id": "947f134e",
   "metadata": {
    "tags": []
   },
   "source": [
    "# Energy Management in Building Project "
   ]
  },
  {
   "cell_type": "markdown",
   "id": "ba995144",
   "metadata": {},
   "source": [
    "## Introduction"
   ]
  },
  {
   "cell_type": "markdown",
   "id": "13039799-6103-4167-803b-0d4d4bd1fe18",
   "metadata": {},
   "source": [
    "L'objectif de ce projet est ..."
   ]
  },
  {
   "cell_type": "markdown",
   "id": "518d4fd1-c99e-4592-bd36-d0055c59ee96",
   "metadata": {},
   "source": [
    "## General presentation of the building "
   ]
  },
  {
   "cell_type": "markdown",
   "id": "d2a8974a-10e4-4580-a950-66327fe02d67",
   "metadata": {},
   "source": [
    "### Description of the studio\n",
    "We are working on a studio of 32 $m^{2}$ in a builnding"
   ]
  },
  {
   "cell_type": "markdown",
   "id": "19a17a96-2ca4-44d7-b5b5-256071507867",
   "metadata": {},
   "source": [
    "![studio](plan_studio.png)"
   ]
  },
  {
   "cell_type": "markdown",
   "id": "cee15de8-f009-4c1a-a83d-069f69a1b48e",
   "metadata": {},
   "source": []
  },
  {
   "cell_type": "code",
   "execution_count": null,
   "id": "201b2e48-fad9-482d-9d24-eb83a0a53891",
   "metadata": {},
   "outputs": [],
   "source": []
  }
 ],
 "metadata": {
  "kernelspec": {
   "display_name": "Python 3 (ipykernel)",
   "language": "python",
   "name": "python3"
  },
  "language_info": {
   "codemirror_mode": {
    "name": "ipython",
    "version": 3
   },
   "file_extension": ".py",
   "mimetype": "text/x-python",
   "name": "python",
   "nbconvert_exporter": "python",
   "pygments_lexer": "ipython3",
   "version": "3.9.7"
  }
 },
 "nbformat": 4,
 "nbformat_minor": 5
}
