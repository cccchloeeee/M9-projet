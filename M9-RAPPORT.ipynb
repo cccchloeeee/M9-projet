{
 "cells": [
  {
   "cell_type": "markdown",
   "id": "947f134e",
   "metadata": {
    "tags": []
   },
   "source": [
    "# Energy Management in Building Project "
   ]
  },
  {
   "cell_type": "markdown",
   "id": "ba995144",
   "metadata": {},
   "source": [
    "## INTRODUCTION"
   ]
  },
  {
   "cell_type": "markdown",
   "id": "49d7124b-8d31-41c4-9215-b846e679119b",
   "metadata": {},
   "source": [
    "The objectives of this project are to  ..."
   ]
  },
  {
   "cell_type": "markdown",
   "id": "0d5f86b2",
   "metadata": {},
   "source": [
    "## PART 1 - PYTHON MODELLING"
   ]
  },
  {
   "cell_type": "code",
   "execution_count": 1,
   "id": "c6a9f457-6b00-421e-98b8-168519534288",
   "metadata": {},
   "outputs": [],
   "source": [
    "import numpy as np\n",
    "import pandas as pd\n",
    "import matplotlib.pyplot as plt\n",
    "# import dm4bem"
   ]
  },
  {
   "cell_type": "markdown",
   "id": "518d4fd1-c99e-4592-bd36-d0055c59ee96",
   "metadata": {},
   "source": [
    "### General presentation of the building "
   ]
  },
  {
   "cell_type": "markdown",
   "id": "d2a8974a-10e4-4580-a950-66327fe02d67",
   "metadata": {},
   "source": [
    "#### Description of the studio\n",
    "We are working on a studio of 32 $m^{2}$ in a builnding"
   ]
  },
  {
   "cell_type": "markdown",
   "id": "19a17a96-2ca4-44d7-b5b5-256071507867",
   "metadata": {},
   "source": [
    "![studio](plan_studio.png)"
   ]
  },
  {
   "cell_type": "markdown",
   "id": "6d9d0b02",
   "metadata": {},
   "source": [
    "#### Physical analysis and mathematical modelling"
   ]
  },
  {
   "cell_type": "code",
   "execution_count": 2,
   "id": "76abfd1a-446f-4657-aa8d-bbd76a8f902b",
   "metadata": {},
   "outputs": [],
   "source": [
    "# Physical values\n",
    "# ===============\n",
    "\n",
    "# P-controler gain\n",
    "# ----------------\n",
    "Kp = 1e4            # Kp -> ∞ : almost perfect controller"
   ]
  },
  {
   "cell_type": "markdown",
   "id": "cee15de8-f009-4c1a-a83d-069f69a1b48e",
   "metadata": {},
   "source": [
    "The dimension and surface areas of the building are:"
   ]
  },
  {
   "cell_type": "code",
   "execution_count": 3,
   "id": "201b2e48-fad9-482d-9d24-eb83a0a53891",
   "metadata": {},
   "outputs": [],
   "source": [
    "# Dimensions & surface areas\n",
    "# --------------------------\n"
   ]
  },
  {
   "cell_type": "markdown",
   "id": "ed06d124-92c1-4b53-a9b4-5cb91066b18d",
   "metadata": {},
   "source": [
    "The thermophysical propoerties of air:"
   ]
  },
  {
   "cell_type": "code",
   "execution_count": 4,
   "id": "0aa60171-c04c-42a8-ba79-a099a84f6fa4",
   "metadata": {},
   "outputs": [],
   "source": [
    "# Air-flow rate\n",
    "# -------------\n"
   ]
  },
  {
   "cell_type": "markdown",
   "id": "8ed2107f-c8d7-4a02-b2b2-2ec8a4e36358",
   "metadata": {},
   "source": [
    "The thermophysical propoerties of the materials and surface areas of the materials in the wall:"
   ]
  },
  {
   "cell_type": "code",
   "execution_count": 5,
   "id": "a9cebf10-baab-4e97-943a-fec4ceaa25d3",
   "metadata": {},
   "outputs": [],
   "source": [
    "# Thermophyscal properties\n",
    "# ------------------------\n"
   ]
  },
  {
   "cell_type": "markdown",
   "id": "96573dd6-12bb-4c3e-95f8-481c642b2fb9",
   "metadata": {},
   "source": [
    "The radiative properties of the surfaces are:"
   ]
  },
  {
   "cell_type": "code",
   "execution_count": 6,
   "id": "87e2b3c0-c042-42af-a2f0-8c2dc9a7a7a8",
   "metadata": {},
   "outputs": [],
   "source": [
    "# Radiative properties\n",
    "# --------------------"
   ]
  },
  {
   "cell_type": "markdown",
   "id": "ddd4586e-6b99-49f3-9a5a-1b0b287495d4",
   "metadata": {},
   "source": [
    "The view factor between the wall and the window (glass) is:"
   ]
  },
  {
   "cell_type": "code",
   "execution_count": 7,
   "id": "2404898f-d8dd-412d-8a41-5a6094a525af",
   "metadata": {},
   "outputs": [],
   "source": [
    "#Fwg"
   ]
  },
  {
   "cell_type": "markdown",
   "id": "d1836b97-0e42-4252-b4ab-de81301ab3e4",
   "metadata": {},
   "source": [
    "The mean temperature of the surfaces (used for the linearizatio of the radiative heat exchange) is:"
   ]
  },
  {
   "cell_type": "code",
   "execution_count": null,
   "id": "932dd4a0-2884-48f0-ad56-f0b5df0ab951",
   "metadata": {},
   "outputs": [],
   "source": [
    "#Tm"
   ]
  },
  {
   "cell_type": "code",
   "execution_count": 1,
   "id": "06d088a7-ff46-4e60-bf5a-851b3a9d970b",
   "metadata": {},
   "outputs": [
    {
     "ename": "SyntaxError",
     "evalue": "invalid syntax (72875741.py, line 1)",
     "output_type": "error",
     "traceback": [
      "\u001b[0;36m  File \u001b[0;32m\"/var/folders/w8/nf99s6b91gjcs1kzj7t0lmzr0000gn/T/ipykernel_1363/72875741.py\"\u001b[0;36m, line \u001b[0;32m1\u001b[0m\n\u001b[0;31m    Convection coeficients:\u001b[0m\n\u001b[0m               ^\u001b[0m\n\u001b[0;31mSyntaxError\u001b[0m\u001b[0;31m:\u001b[0m invalid syntax\n"
     ]
    }
   ],
   "source": [
    "Convection coeficients:"
   ]
  },
  {
   "cell_type": "code",
   "execution_count": null,
   "id": "65f7562c-1f38-47d9-92c2-cd0a8a3a21be",
   "metadata": {},
   "outputs": [],
   "source": [
    "# convection coefficients, W/m² K"
   ]
  },
  {
   "cell_type": "code",
   "execution_count": null,
   "id": "98676b4b",
   "metadata": {},
   "outputs": [],
   "source": [
    "Presentation du model ( mettre photo resitance ect)"
   ]
  },
  {
   "cell_type": "markdown",
   "id": "0135f8eb",
   "metadata": {},
   "source": [
    "### Thermal network model"
   ]
  },
  {
   "cell_type": "markdown",
   "id": "270cca64-9928-455f-b6ce-eb5522ccb504",
   "metadata": {},
   "source": [
    "#### Hypothesis"
   ]
  },
  {
   "cell_type": "markdown",
   "id": "3b530d2d",
   "metadata": {},
   "source": [
    "\n",
    "\n",
    "\n",
    "(insérer toutes les hypothèses : températures autour, modélisation simplifiée fenètre / porte ...) "
   ]
  },
  {
   "cell_type": "markdown",
   "id": "9c8c1ab7",
   "metadata": {},
   "source": [
    "#### Thermal network model"
   ]
  },
  {
   "cell_type": "code",
   "execution_count": null,
   "id": "2e9af6b4",
   "metadata": {},
   "outputs": [],
   "source": []
  },
  {
   "cell_type": "markdown",
   "id": "2ba5cfb5",
   "metadata": {},
   "source": [
    "#### Resistances and capacities"
   ]
  },
  {
   "cell_type": "markdown",
   "id": "0ba0c17d-90ab-4227-9073-da407a436db9",
   "metadata": {},
   "source": [
    "**Thermal conductances**"
   ]
  },
  {
   "cell_type": "code",
   "execution_count": null,
   "id": "a71ce68f-502b-4f9e-ad56-32531e06c2e9",
   "metadata": {},
   "outputs": [],
   "source": [
    "# Thermal conductances"
   ]
  },
  {
   "cell_type": "markdown",
   "id": "64b15fd8-543c-4a85-bbd7-c62ff87045b6",
   "metadata": {},
   "source": [
    "**Thermal capacities**"
   ]
  },
  {
   "cell_type": "code",
   "execution_count": null,
   "id": "1e3b4049-875e-4550-b23b-51a01514900c",
   "metadata": {},
   "outputs": [],
   "source": [
    "# Thermal capacities"
   ]
  },
  {
   "cell_type": "markdown",
   "id": "5d6efcb7",
   "metadata": {},
   "source": [
    "#### Differential algebraic equations"
   ]
  },
  {
   "cell_type": "markdown",
   "id": "ee717a54",
   "metadata": {},
   "source": [
    "**Incidence matrix A**"
   ]
  },
  {
   "cell_type": "code",
   "execution_count": null,
   "id": "cde47c30",
   "metadata": {},
   "outputs": [],
   "source": []
  },
  {
   "cell_type": "markdown",
   "id": "44d8d7e9",
   "metadata": {},
   "source": [
    "**Capacity matrix C**"
   ]
  },
  {
   "cell_type": "code",
   "execution_count": null,
   "id": "7f958435",
   "metadata": {},
   "outputs": [],
   "source": []
  },
  {
   "cell_type": "markdown",
   "id": "2c3ec5f6",
   "metadata": {},
   "source": [
    "**Conductance matrix G**"
   ]
  },
  {
   "cell_type": "code",
   "execution_count": null,
   "id": "d018150f",
   "metadata": {},
   "outputs": [],
   "source": []
  },
  {
   "cell_type": "markdown",
   "id": "68868a3f",
   "metadata": {},
   "source": [
    "**Vector of temperature sources b**"
   ]
  },
  {
   "cell_type": "code",
   "execution_count": null,
   "id": "39714a0d",
   "metadata": {},
   "outputs": [],
   "source": []
  },
  {
   "cell_type": "markdown",
   "id": "1867d1df",
   "metadata": {},
   "source": [
    "**Vector of heat sources f**"
   ]
  },
  {
   "cell_type": "code",
   "execution_count": null,
   "id": "efda72ce",
   "metadata": {},
   "outputs": [],
   "source": []
  },
  {
   "cell_type": "markdown",
   "id": "1a4bcaa2",
   "metadata": {},
   "source": [
    "**System of Algebraic-Differential Equations**"
   ]
  },
  {
   "cell_type": "code",
   "execution_count": null,
   "id": "6da0e16d",
   "metadata": {},
   "outputs": [],
   "source": []
  },
  {
   "cell_type": "markdown",
   "id": "5889135d",
   "metadata": {},
   "source": [
    "### Steady-state solution"
   ]
  },
  {
   "cell_type": "code",
   "execution_count": null,
   "id": "b81c6c0f",
   "metadata": {},
   "outputs": [],
   "source": []
  },
  {
   "cell_type": "markdown",
   "id": "cb99ca93",
   "metadata": {},
   "source": [
    "### State-space model"
   ]
  },
  {
   "cell_type": "code",
   "execution_count": null,
   "id": "8da5af40",
   "metadata": {},
   "outputs": [],
   "source": []
  },
  {
   "cell_type": "code",
   "execution_count": null,
   "id": "a10d645e",
   "metadata": {},
   "outputs": [],
   "source": []
  },
  {
   "cell_type": "markdown",
   "id": "c551c007",
   "metadata": {},
   "source": [
    "### Dynamic simulation"
   ]
  },
  {
   "cell_type": "markdown",
   "id": "5e3e1af2",
   "metadata": {},
   "source": [
    "**Time step**"
   ]
  },
  {
   "cell_type": "code",
   "execution_count": null,
   "id": "af0f100b",
   "metadata": {},
   "outputs": [],
   "source": []
  },
  {
   "cell_type": "markdown",
   "id": "7fbb8532",
   "metadata": {},
   "source": [
    "**Step response**"
   ]
  },
  {
   "cell_type": "code",
   "execution_count": null,
   "id": "3074e37b",
   "metadata": {},
   "outputs": [],
   "source": []
  },
  {
   "cell_type": "code",
   "execution_count": null,
   "id": "c046ddce",
   "metadata": {},
   "outputs": [],
   "source": []
  },
  {
   "cell_type": "code",
   "execution_count": null,
   "id": "4e8e67fe",
   "metadata": {},
   "outputs": [],
   "source": []
  },
  {
   "cell_type": "markdown",
   "id": "970d99e9",
   "metadata": {},
   "source": [
    "### Ameliorations ?"
   ]
  },
  {
   "cell_type": "code",
   "execution_count": null,
   "id": "6b39bc61",
   "metadata": {},
   "outputs": [],
   "source": []
  },
  {
   "cell_type": "code",
   "execution_count": null,
   "id": "9b555191",
   "metadata": {},
   "outputs": [],
   "source": []
  },
  {
   "cell_type": "markdown",
   "id": "b391ff41",
   "metadata": {},
   "source": [
    "## PART 2 - ENERGY EFFICIENT DESIGN"
   ]
  },
  {
   "cell_type": "markdown",
   "id": "2e30476c",
   "metadata": {},
   "source": [
    "### General presentation of the building"
   ]
  },
  {
   "cell_type": "code",
   "execution_count": null,
   "id": "9d9bdffb",
   "metadata": {},
   "outputs": [],
   "source": []
  },
  {
   "cell_type": "code",
   "execution_count": null,
   "id": "198f18a0",
   "metadata": {},
   "outputs": [],
   "source": []
  },
  {
   "cell_type": "code",
   "execution_count": null,
   "id": "b2b259c8",
   "metadata": {},
   "outputs": [],
   "source": []
  }
 ],
 "metadata": {
  "kernelspec": {
   "display_name": "Python 3 (ipykernel)",
   "language": "python",
   "name": "python3"
  },
  "language_info": {
   "codemirror_mode": {
    "name": "ipython",
    "version": 3
   },
   "file_extension": ".py",
   "mimetype": "text/x-python",
   "name": "python",
   "nbconvert_exporter": "python",
   "pygments_lexer": "ipython3",
   "version": "3.9.7"
  }
 },
 "nbformat": 4,
 "nbformat_minor": 5
}
