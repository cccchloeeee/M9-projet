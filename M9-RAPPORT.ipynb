{
 "cells": [
  {
   "cell_type": "markdown",
   "id": "947f134e",
   "metadata": {},
   "source": [
    "Energy Management in Building Project "
   ]
  },
  {
   "cell_type": "markdown",
   "id": "ba995144",
   "metadata": {},
   "source": [
    "Apartment with 2 rooms"
   ]
  },
  {
   "cell_type": "code",
   "execution_count": null,
   "id": "1b5b0d82",
   "metadata": {},
   "outputs": [],
   "source": []
  }
 ],
 "metadata": {
  "kernelspec": {
   "display_name": "Python 3 (ipykernel)",
   "language": "python",
   "name": "python3"
  },
  "language_info": {
   "codemirror_mode": {
    "name": "ipython",
    "version": 3
   },
   "file_extension": ".py",
   "mimetype": "text/x-python",
   "name": "python",
   "nbconvert_exporter": "python",
   "pygments_lexer": "ipython3",
   "version": "3.9.7"
  }
 },
 "nbformat": 4,
 "nbformat_minor": 5
}
